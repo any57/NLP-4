1. Корпус (https://drive.google.com/drive/folders/1GkY8qmaJbRdLVupu9fABz_4HHij2iR2P?usp=sharing) состоит из папки с текстами и папки с ключевыми словами, которая в свою очередь делится на папку с заранее выделенными ключевыми словами (Downloaded) и с самостоятельно найденными (Found)

Источник корпуса: https://github.com/LIAAD/KeywordExtractor-Datasets#500 Ключевые слова представлены в виде списка словосочетаний.
           
2. 
           
3.
           
4.

5. 
           
6.
                     
